{
 "cells": [
  {
   "cell_type": "code",
   "execution_count": null,
   "metadata": {},
   "outputs": [],
   "source": [
    "import pandas as pd\n",
    "from pathlib import Path\n",
    "import geopandas as gpd\n",
    "import matplotlib.pyplot as plt\n",
    "import plotly.express as px\n",
    "import seaborn as sns\n",
    "import warnings\n",
    "warnings.simplefilter(action='ignore', category=FutureWarning)\n",
    "import plotly.graph_objects as go\n",
    "import json"
   ]
  },
  {
   "cell_type": "code",
   "execution_count": null,
   "metadata": {},
   "outputs": [],
   "source": [
    "# Read in Brazil fire data\n",
    "brazil_fire = Path('resources/brazil_fires_by_state.csv')\n",
    "brazil_df = pd.read_csv(brazil_fire, encoding='ISO-8859-1')\n",
    "\n",
    "# find unique state name for proper abbrevations\n",
    "states = brazil_df['state']\n",
    "states.unique()\n"
   ]
  },
  {
   "cell_type": "code",
   "execution_count": null,
   "metadata": {},
   "outputs": [],
   "source": [
    "# rename states to 2-letter code so that data can merge\n",
    "state_rename_mapping = {\n",
    "    'Acre' : \"AC\",\n",
    "    'Alagoas' : \"AL\",\n",
    "    'Amapa' : \"AP\", \n",
    "    'Amazonas' : \"AM\", \n",
    "    'Bahia' : \"BA\", \n",
    "    'Ceara' : \"CE\",\n",
    "    'Distrito Federal' : \"DF\", \n",
    "    'Espirito Santo' : \"ES\", \n",
    "    'Goias' : \"GO\", \n",
    "    'Maranhao' : \"MA\",\n",
    "    'Mato Grosso' : \"MT\", \n",
    "    'Minas Gerais' : \"MG\", \n",
    "    'Pará' : \"PA\", \n",
    "    'Paraiba' :\"PB\", \n",
    "    'Pernambuco' : \"PE\",\n",
    "    'Piau' : \"PI\",\n",
    "    'Rio' : \"RJ\", \n",
    "    'Rondonia' : \"RO\",\n",
    "    'Roraima' : \"RR\", \n",
    "    'Santa Catarina' : \"SC\",\n",
    "    'Sao Paulo' : \"SP\", \n",
    "    'Sergipe' : \"SE\", \n",
    "    'Tocantins' : \"TO\"\n",
    "}"
   ]
  },
  {
   "cell_type": "code",
   "execution_count": null,
   "metadata": {},
   "outputs": [],
   "source": [
    "# rename state column values with abbrevations for each\n",
    "brazil_df['state'] = brazil_df['state'].replace(state_rename_mapping)\n",
    "brazil_df.head()"
   ]
  },
  {
   "cell_type": "code",
   "execution_count": null,
   "metadata": {},
   "outputs": [],
   "source": [
    "# rename column label\n",
    "brazil_abbrev = brazil_df.rename(columns = {\n",
    " \"state\" : \"state_abbr\"\n",
    "})\n",
    "\n",
    "brazil_abbrev.head()"
   ]
  },
  {
   "cell_type": "code",
   "execution_count": null,
   "metadata": {},
   "outputs": [],
   "source": [
    "# group by year and state to find total reported fires for 2013\n",
    "brazil_fire_2013 = brazil_abbrev[brazil_abbrev['year'] == 2013]\n",
    "group_2013 = brazil_fire_2013.groupby(['year', 'state_abbr'])['number'].sum().reset_index()\n",
    "\n",
    "group_2013.head()"
   ]
  },
  {
   "cell_type": "code",
   "execution_count": null,
   "metadata": {},
   "outputs": [],
   "source": [
    "# repeat above for 2017\n",
    "brazil_fire_2017 = brazil_abbrev[brazil_abbrev['year'] == 2017]\n",
    "group_2017 = brazil_fire_2017.groupby(['year', 'state_abbr'])['number'].sum().reset_index()\n",
    "\n",
    "group_2017.head()"
   ]
  },
  {
   "cell_type": "code",
   "execution_count": null,
   "metadata": {},
   "outputs": [],
   "source": [
    "# load json file with state geometry\n",
    "with open('resources/brazil_geo.json') as f:\n",
    "    json_data = json.load(f)\n",
    "\n",
    "# Convert to GeoDataFrame with GeoPandas\n",
    "gdf = gpd.GeoDataFrame.from_features(json_data['features'])\n",
    "\n",
    "gdf.head()"
   ]
  },
  {
   "cell_type": "code",
   "execution_count": null,
   "metadata": {},
   "outputs": [],
   "source": [
    "# create state abbreviations to use in json file\n",
    "state_abbr = {\n",
    "    \"Acre\": \"AC\",\n",
    "    \"Alagoas\": \"AL\",\n",
    "    \"Amapá\": \"AP\",\n",
    "    \"Amazonas\": \"AM\",\n",
    "    \"Bahia\": \"BA\",\n",
    "    \"Ceará\": \"CE\",\n",
    "    \"Espírito Santo\": \"ES\",\n",
    "    \"Goiás\": \"GO\",\n",
    "    \"Maranhão\": \"MA\",\n",
    "    \"Mato Grosso\": \"MT\",\n",
    "    \"Mato Grosso do Sul\": \"MS\",\n",
    "    \"Minas Gerais\": \"MG\",\n",
    "    \"Pará\": \"PA\",\n",
    "    \"Paraíba\": \"PB\",\n",
    "    \"Paraná\": \"PR\",\n",
    "    \"Pernambuco\": \"PE\",\n",
    "    \"Piauí\": \"PI\",\n",
    "    \"Rio de Janeiro\": \"RJ\",\n",
    "    \"Rio Grande do Norte\": \"RN\",\n",
    "    \"Rio Grande do Sul\": \"RS\",\n",
    "    \"Rondônia\": \"RO\",\n",
    "    \"Roraima\": \"RR\",\n",
    "    \"São Paulo\": \"SP\",\n",
    "    \"Sergipe\": \"SE\",\n",
    "    \"Tocantins\": \"TO\"\n",
    "}"
   ]
  },
  {
   "cell_type": "code",
   "execution_count": null,
   "metadata": {},
   "outputs": [],
   "source": [
    "# add abbreviations to the json file\n",
    "gdf['state_abbr'] = gdf['name'].map(state_abbr)"
   ]
  },
  {
   "cell_type": "code",
   "execution_count": null,
   "metadata": {},
   "outputs": [],
   "source": [
    "# merge 2013 and 2017 data with the json file\n",
    "gdf_2013 = gdf.merge(brazil_fire_2013, how='left', on='state_abbr')\n",
    "gdf_2017 = gdf.merge(brazil_fire_2017, how='left', on='state_abbr')\n",
    "\n",
    "gdf_2013.head()"
   ]
  },
  {
   "cell_type": "code",
   "execution_count": null,
   "metadata": {},
   "outputs": [],
   "source": [
    "# Make 2013 Choropleth map\n",
    "fig_2013 = px.choropleth(\n",
    "    gdf_2013,\n",
    "    geojson=gdf_2013.geometry,\n",
    "    locations=gdf_2013.index,\n",
    "    color='number',\n",
    "    hover_name='name',\n",
    "    hover_data=['number'],\n",
    "    color_continuous_scale=\"Reds\",\n",
    "    title=\"Wildfires in Brazil - 2013\", \n",
    "    height = 500, \n",
    "    width = 900\n",
    ")\n",
    "fig_2013.update_geos(fitbounds=\"locations\", visible=False) \n",
    "\n",
    "# fig_2013.write_html(\"brazil_2013.html\")\n",
    "fig_2013.show()"
   ]
  },
  {
   "cell_type": "code",
   "execution_count": null,
   "metadata": {},
   "outputs": [],
   "source": [
    "\n",
    "# Make 2017 Choropleth map\n",
    "fig_2017 = px.choropleth(\n",
    "    gdf_2017,\n",
    "    geojson=gdf_2017.geometry,\n",
    "    locations=gdf_2017.index,\n",
    "    color='number',\n",
    "    hover_name='name',\n",
    "    hover_data=['number'],\n",
    "    color_continuous_scale=\"Reds\",\n",
    "    title=\"Wildfires in Brazil - 2017\", \n",
    "    height = 500, \n",
    "    width = 900\n",
    ")\n",
    "fig_2017.update_geos(fitbounds=\"locations\", visible=False) \n",
    "\n",
    "# fig_2017.write_html(\"brazil_2017.html\")\n",
    "fig_2017.show()"
   ]
  },
  {
   "cell_type": "code",
   "execution_count": null,
   "metadata": {},
   "outputs": [],
   "source": []
  }
 ],
 "metadata": {
  "kernelspec": {
   "display_name": "dev",
   "language": "python",
   "name": "python3"
  },
  "language_info": {
   "codemirror_mode": {
    "name": "ipython",
    "version": 3
   },
   "file_extension": ".py",
   "mimetype": "text/x-python",
   "name": "python",
   "nbconvert_exporter": "python",
   "pygments_lexer": "ipython3",
   "version": "3.10.14"
  }
 },
 "nbformat": 4,
 "nbformat_minor": 2
}
