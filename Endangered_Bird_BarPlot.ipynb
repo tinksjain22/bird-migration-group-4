{
  "nbformat": 4,
  "nbformat_minor": 0,
  "metadata": {
    "colab": {
      "provenance": []
    },
    "kernelspec": {
      "name": "python3",
      "display_name": "Python 3"
    },
    "language_info": {
      "name": "python"
    }
  },
  "cells": [
    {
      "cell_type": "code",
      "source": [
        "from jupyter_dash import JupyterDash\n",
        "from dash import dcc, html, Input, Output\n",
        "import pandas as pd\n",
        "import plotly.express as px\n",
        "\n",
        "# Load data\n",
        "file1_path = '/aaw1313_data_s1.xlsx'  # Adjust if needed\n",
        "file1_main_data = pd.read_excel(file1_path, sheet_name='population change by species NA')\n",
        "\n",
        "# Dash app setup\n",
        "app = JupyterDash(__name__)\n",
        "\n",
        "# App layout\n",
        "app.layout = html.Div([\n",
        "    html.H1(\"Endangered Species Visualization\", style={'textAlign': 'center'}),\n",
        "\n",
        "    # Dropdown to select category\n",
        "    html.Div([\n",
        "        html.Label(\"Select Category:\"),\n",
        "        dcc.Dropdown(\n",
        "            id='category-dropdown',\n",
        "            options=[\n",
        "                {'label': 'Breeding Biome', 'value': 'Breeding.Biome'},\n",
        "                {'label': 'Bird Group', 'value': 'bird.group'}\n",
        "            ],\n",
        "            value='Breeding.Biome'\n",
        "        ),\n",
        "    ], style={'width': '40%', 'margin': 'auto'}),\n",
        "\n",
        "    # Graph output\n",
        "    dcc.Graph(id='endangered-graph'),\n",
        "])\n",
        "\n",
        "# Callback to update the graph\n",
        "@app.callback(\n",
        "    Output('endangered-graph', 'figure'),\n",
        "    [Input('category-dropdown', 'value')]\n",
        ")\n",
        "def update_graph(category):\n",
        "    # Set a fixed threshold (e.g., -50%)\n",
        "    threshold_value = 50  # Fixed threshold for percentage loss\n",
        "    filtered_data = file1_main_data.copy()\n",
        "    filtered_data[\"Endangered\"] = filtered_data[\"Loss_med\"] <= -(threshold_value / 100) * filtered_data[\"last_year_popest\"]\n",
        "\n",
        "    # Group and calculate percentages\n",
        "    summary = filtered_data.groupby(category)[\"Endangered\"].mean() * 100\n",
        "    summary = summary.reset_index()\n",
        "\n",
        "    # Create bar plot\n",
        "    fig = px.bar(\n",
        "        summary,\n",
        "        x=category,\n",
        "        y=\"Endangered\",\n",
        "        title=f\"Percentage of Endangered Species by {category}\",\n",
        "        labels={\"Endangered\": \"Percentage Endangered\", category: \"Category\"},\n",
        "        color=\"Endangered\",\n",
        "    )\n",
        "    return fig\n",
        "\n",
        "# Run the app in Colab\n",
        "app.run_server(mode='external')\n"
      ],
      "metadata": {
        "colab": {
          "base_uri": "https://localhost:8080/",
          "height": 831
        },
        "id": "BUa9WWMLIAVI",
        "outputId": "cba0ebd5-d2c4-4700-92fa-ba8e9ecc5ef7"
      },
      "execution_count": 1,
      "outputs": [
        {
          "output_type": "stream",
          "name": "stdout",
          "text": [
            "Dash app running on:\n",
            "\u001b[31mWarning: This function may stop working due to changes in browser security.\n",
            "Try `serve_kernel_port_as_iframe` instead. \u001b[0m\n"
          ]
        },
        {
          "output_type": "stream",
          "name": "stderr",
          "text": [
            "/usr/local/lib/python3.10/dist-packages/dash/dash.py:579: UserWarning:\n",
            "\n",
            "JupyterDash is deprecated, use Dash instead.\n",
            "See https://dash.plotly.com/dash-in-jupyter for more details.\n",
            "\n"
          ]
        },
        {
          "output_type": "display_data",
          "data": {
            "text/plain": [
              "<IPython.core.display.Javascript object>"
            ],
            "application/javascript": [
              "(async (port, path, text, element) => {\n",
              "    if (!google.colab.kernel.accessAllowed) {\n",
              "      return;\n",
              "    }\n",
              "    element.appendChild(document.createTextNode(''));\n",
              "    const url = await google.colab.kernel.proxyPort(port);\n",
              "    const anchor = document.createElement('a');\n",
              "    anchor.href = new URL(path, url).toString();\n",
              "    anchor.target = '_blank';\n",
              "    anchor.setAttribute('data-href', url + path);\n",
              "    anchor.textContent = text;\n",
              "    element.appendChild(anchor);\n",
              "  })(8050, \"/\", \"http://127.0.0.1:8050/\", window.element)"
            ]
          },
          "metadata": {}
        },
        {
          "output_type": "display_data",
          "data": {
            "text/plain": [
              "<IPython.core.display.Javascript object>"
            ],
            "application/javascript": [
              "(async (port, path, width, height, cache, element) => {\n",
              "    if (!google.colab.kernel.accessAllowed && !cache) {\n",
              "      return;\n",
              "    }\n",
              "    element.appendChild(document.createTextNode(''));\n",
              "    const url = await google.colab.kernel.proxyPort(port, {cache});\n",
              "    const iframe = document.createElement('iframe');\n",
              "    iframe.src = new URL(path, url).toString();\n",
              "    iframe.height = height;\n",
              "    iframe.width = width;\n",
              "    iframe.style.border = 0;\n",
              "    iframe.allow = [\n",
              "        'accelerometer',\n",
              "        'autoplay',\n",
              "        'camera',\n",
              "        'clipboard-read',\n",
              "        'clipboard-write',\n",
              "        'gyroscope',\n",
              "        'magnetometer',\n",
              "        'microphone',\n",
              "        'serial',\n",
              "        'usb',\n",
              "        'xr-spatial-tracking',\n",
              "    ].join('; ');\n",
              "    element.appendChild(iframe);\n",
              "  })(8050, \"/\", \"100%\", 650, false, window.element)"
            ]
          },
          "metadata": {}
        }
      ]
    }
  ]
}