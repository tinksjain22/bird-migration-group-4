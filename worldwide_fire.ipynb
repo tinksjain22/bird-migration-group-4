{
 "cells": [
  {
   "cell_type": "code",
   "execution_count": null,
   "metadata": {},
   "outputs": [],
   "source": [
    "import pandas as pd\n",
    "from pathlib import Path\n",
    "import geopandas as gpd\n",
    "import matplotlib.pyplot as plt\n",
    "import plotly.express as px\n",
    "import seaborn as sns\n",
    "import warnings\n",
    "warnings.simplefilter(action='ignore', category=FutureWarning)\n",
    "import plotly.graph_objects as go\n",
    "import json"
   ]
  },
  {
   "cell_type": "markdown",
   "metadata": {},
   "source": [
    "# Worldwide wildfire choropleth animated map"
   ]
  },
  {
   "cell_type": "code",
   "execution_count": null,
   "metadata": {},
   "outputs": [],
   "source": [
    "# Load csv file for wildfire data\n",
    "wildfires = Path(\"resources/2- annual-area-burnt-by-wildfires.csv\")\n",
    "wildfire_df = pd.read_csv(wildfires)\n",
    "\n",
    "wildfire_df.head()\n",
    "wildfire_df.info()"
   ]
  },
  {
   "cell_type": "code",
   "execution_count": null,
   "metadata": {},
   "outputs": [],
   "source": [
    "# Rename columns\n",
    "wildfire_df = wildfire_df.rename(columns = {\n",
    "    \"Entity\" : \"Country\", \n",
    "    \"Code\" : 'Alpha-3 code', \n",
    "    \"Annual area burnt by wildfires\" : \"Acres Burned\"\n",
    "})\n",
    "\n",
    "wildfire_df.head()"
   ]
  },
  {
   "cell_type": "code",
   "execution_count": null,
   "metadata": {},
   "outputs": [],
   "source": [
    "# Drop null values\n",
    "wildfire_df.dropna(inplace=True)\n",
    "wildfire_df.info()"
   ]
  },
  {
   "cell_type": "code",
   "execution_count": null,
   "metadata": {},
   "outputs": [],
   "source": [
    "# Separate DF by year\n",
    "df_2012 = wildfire_df[wildfire_df[\"Year\"] ==2012]\n",
    "df_2013 = wildfire_df[wildfire_df[\"Year\"] ==2013]\n",
    "df_2014 = wildfire_df[wildfire_df[\"Year\"] ==2014]\n",
    "df_2015 = wildfire_df[wildfire_df[\"Year\"] ==2015]\n",
    "df_2016 = wildfire_df[wildfire_df[\"Year\"] ==2016]\n",
    "df_2017 = wildfire_df[wildfire_df[\"Year\"] ==2017]\n",
    "df_2018 = wildfire_df[wildfire_df[\"Year\"] ==2018]\n",
    "df_2019 = wildfire_df[wildfire_df[\"Year\"] ==2019]\n",
    "df_2020 = wildfire_df[wildfire_df[\"Year\"] ==2020]\n",
    "df_2021 = wildfire_df[wildfire_df[\"Year\"] ==2021]\n",
    "df_2022 = wildfire_df[wildfire_df[\"Year\"] ==2022]\n",
    "df_2023 = wildfire_df[wildfire_df[\"Year\"] ==2023]"
   ]
  },
  {
   "cell_type": "code",
   "execution_count": null,
   "metadata": {},
   "outputs": [],
   "source": [
    "# Import geographic data csv\n",
    "coords = Path(\"resources/countries_codes_and_coordinates.csv\")\n",
    "coordinates_df = gpd.read_file(coords)\n",
    "\n",
    "coordinates_df.head()"
   ]
  },
  {
   "cell_type": "code",
   "execution_count": null,
   "metadata": {},
   "outputs": [],
   "source": [
    "coordinates_df.columns"
   ]
  },
  {
   "cell_type": "code",
   "execution_count": null,
   "metadata": {},
   "outputs": [],
   "source": [
    "# Keep only necessary columns\n",
    "coordinates_df = coordinates_df[['Country', 'Alpha-3 code', 'Numeric code',\n",
    "       'Latitude (average)', 'Longitude (average)', 'geometry']]\n",
    "\n",
    "coordinates_df.head()"
   ]
  },
  {
   "cell_type": "code",
   "execution_count": null,
   "metadata": {},
   "outputs": [],
   "source": [
    "# Strip whitespace\n",
    "coordinates_df = coordinates_df.apply(lambda x: x.str.strip() if x.dtype == \"object\" else x)\n",
    "coordinates_df.head()"
   ]
  },
  {
   "cell_type": "code",
   "execution_count": null,
   "metadata": {},
   "outputs": [],
   "source": [
    "# Merge each year DF with geographic data\n",
    "merged_2012 = pd.merge(df_2012, coordinates_df, how = \"inner\", on = ['Country', \"Alpha-3 code\"])\n",
    "merged_2013 = pd.merge(df_2013, coordinates_df, how = \"inner\", on = ['Country', \"Alpha-3 code\"])\n",
    "merged_2014 = pd.merge(df_2014, coordinates_df, how = \"inner\", on = ['Country', \"Alpha-3 code\"])\n",
    "merged_2015 = pd.merge(df_2015, coordinates_df, how = \"inner\", on = ['Country', \"Alpha-3 code\"])\n",
    "merged_2016 = pd.merge(df_2016, coordinates_df, how = \"inner\", on = ['Country', \"Alpha-3 code\"])\n",
    "merged_2017 = pd.merge(df_2017, coordinates_df, how = \"inner\", on = ['Country', \"Alpha-3 code\"])\n",
    "merged_2018 = pd.merge(df_2018, coordinates_df, how = \"inner\", on = ['Country', \"Alpha-3 code\"])\n",
    "merged_2019 = pd.merge(df_2019, coordinates_df, how = \"inner\", on = ['Country', \"Alpha-3 code\"])\n",
    "merged_2020 = pd.merge(df_2020, coordinates_df, how = \"inner\", on = ['Country', \"Alpha-3 code\"])\n",
    "merged_2021 = pd.merge(df_2021, coordinates_df, how = \"inner\", on = ['Country', \"Alpha-3 code\"])\n",
    "merged_2022 = pd.merge(df_2022, coordinates_df, how = \"inner\", on = ['Country', \"Alpha-3 code\"])\n",
    "merged_2023 = pd.merge(df_2023, coordinates_df, how = \"inner\", on = ['Country', \"Alpha-3 code\"])\n",
    "merged_2012.head()"
   ]
  },
  {
   "cell_type": "code",
   "execution_count": null,
   "metadata": {},
   "outputs": [],
   "source": [
    "# Append each year DF to one DF to graph\n",
    "new_fires = pd.concat([merged_2013, merged_2014, merged_2015, merged_2016, merged_2017, merged_2018, merged_2019, merged_2020, merged_2021, merged_2022, merged_2023], ignore_index = True)"
   ]
  },
  {
   "cell_type": "code",
   "execution_count": null,
   "metadata": {},
   "outputs": [],
   "source": [
    "new_fires.to_csv('resources/new_fires.csv')"
   ]
  },
  {
   "cell_type": "code",
   "execution_count": null,
   "metadata": {},
   "outputs": [],
   "source": [
    "# Create Choropleth Map with Alpha-3 Code, slider bar is animated by Year\n",
    "fig = px.choropleth(\n",
    "    new_fires,\n",
    "    geojson=coordinates_df['Alpha-3 code'],\n",
    "    locations='Alpha-3 code',\n",
    "    color='Acres Burned',\n",
    "    animation_frame='Year', \n",
    "    color_continuous_scale= px.colors.sequential.Reds,\n",
    "    title='Area Burnt by Wildfires over Time', \n",
    "    height = 750, \n",
    "    width = 900\n",
    ")\n",
    "fig.update_geos(fitbounds=\"locations\", visible=False) \n",
    "fig.layout.updatemenus[0].buttons[0].args[1]['transition']['duration'] = 10000\n",
    "\n",
    "# Export to HTML for project\n",
    "fig.write_html(\"html/wildfiredata.html\")\n",
    "fig.show()"
   ]
  },
  {
   "cell_type": "code",
   "execution_count": null,
   "metadata": {},
   "outputs": [],
   "source": [
    "# Filter the top 10 countries based on total acres burned\n",
    "total_acres_burned = new_fires.groupby('Country')['Acres Burned'].sum().sort_values(ascending=False)\n",
    "\n",
    "# Get the top 10 countries by total acres burned\n",
    "top_10_countries = total_acres_burned.head(10).index"
   ]
  },
  {
   "cell_type": "code",
   "execution_count": null,
   "metadata": {},
   "outputs": [],
   "source": [
    "# Filter the data to include only the top 10 countries\n",
    "top_10_data = new_fires[new_fires['Country'].isin(top_10_countries)]\n"
   ]
  },
  {
   "cell_type": "code",
   "execution_count": null,
   "metadata": {},
   "outputs": [],
   "source": [
    "# Aggregate the data by country and year (sum of acres burned)\n",
    "pivot_data = top_10_data.groupby(['Country', 'Year'])['Acres Burned'].sum().reset_index()\n",
    "\n",
    "# Pivot the data to create a matrix of 'Country' vs. 'Year' with 'Acres Burned' as values\n",
    "heatmap_data = pivot_data.pivot(index='Country', columns='Year', values='Acres Burned')\n",
    "\n",
    "# Sort the rows in descending order by total acres burned\n",
    "heatmap_data = heatmap_data.loc[total_acres_burned.head(10).index]"
   ]
  },
  {
   "cell_type": "code",
   "execution_count": null,
   "metadata": {},
   "outputs": [],
   "source": [
    "# Set up the plot size and style\n",
    "plt.figure(figsize=(12, 8))\n",
    "\n",
    "plt.gcf().set_facecolor('black')  # Set figure background to black\n",
    "plt.gca().set_facecolor('black')\n",
    "\n",
    "# Create the heatmap\n",
    "heatmap = sns.heatmap(heatmap_data, annot=False, cmap='YlOrRd', cbar_kws={'label': 'Acres Burned (Millions)'}, color = 'white')\n",
    "\n",
    "# Set plot labels\n",
    "plt.title('Acres Burned by Top 10 Countries (2013-2023)', fontsize=16, color='white')\n",
    "plt.xlabel('Year', fontsize=12, color='white')\n",
    "plt.ylabel('Country', fontsize=12, color='white')\n",
    "\n",
    "\n",
    "# Change color bar label to white\n",
    "colorbar = plt.gca().collections[0].colorbar  # Get the colorbar\n",
    "colorbar.set_label('Acres Burned (Millions)', fontsize=12, color='white')  # Set colorbar label to white\n",
    "colorbar.ax.tick_params(labelcolor='white')  # Set color of colorbar ticks to white\n",
    "\n",
    "\n",
    "plt.xticks(fontsize=10, color='white')\n",
    "plt.yticks(fontsize=10, color='white')\n",
    "\n",
    "# Show the plot\n",
    "plt.savefig('html/fire_heatmap.png')\n",
    "plt.show()\n"
   ]
  },
  {
   "cell_type": "code",
   "execution_count": null,
   "metadata": {},
   "outputs": [],
   "source": []
  }
 ],
 "metadata": {
  "kernelspec": {
   "display_name": "dev",
   "language": "python",
   "name": "python3"
  },
  "language_info": {
   "codemirror_mode": {
    "name": "ipython",
    "version": 3
   },
   "file_extension": ".py",
   "mimetype": "text/x-python",
   "name": "python",
   "nbconvert_exporter": "python",
   "pygments_lexer": "ipython3",
   "version": "3.10.14"
  }
 },
 "nbformat": 4,
 "nbformat_minor": 2
}
