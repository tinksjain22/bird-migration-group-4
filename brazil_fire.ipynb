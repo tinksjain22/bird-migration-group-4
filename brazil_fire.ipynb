{
 "cells": [
  {
   "cell_type": "code",
   "execution_count": null,
   "metadata": {},
   "outputs": [],
   "source": [
    "import pandas as pd\n",
    "from pathlib import Path\n",
    "import geopandas as gpd\n",
    "import matplotlib.pyplot as plt\n",
    "import plotly.express as px\n",
    "import warnings\n",
    "warnings.simplefilter(action='ignore', category=FutureWarning)\n",
    "import plotly.graph_objects as go\n",
    "import json"
   ]
  },
  {
   "cell_type": "markdown",
   "metadata": {},
   "source": [
    "# Creating Brazil-Specific Maps for Wildfires and Birds"
   ]
  },
  {
   "cell_type": "code",
   "execution_count": null,
   "metadata": {},
   "outputs": [],
   "source": [
    "# Read in Brazil fire data\n",
    "brazil_fire = Path('resources/brazil_fires_by_state.csv')\n",
    "brazil_df = pd.read_csv(brazil_fire, encoding='ISO-8859-1')\n",
    "\n",
    "# find unique state name for proper abbrevations\n",
    "states = brazil_df['state']\n",
    "states.unique()\n"
   ]
  },
  {
   "cell_type": "code",
   "execution_count": null,
   "metadata": {},
   "outputs": [],
   "source": [
    "# rename states to 2-letter code so that data can merge\n",
    "state_rename_mapping = {\n",
    "    'Acre' : \"AC\",\n",
    "    'Alagoas' : \"AL\",\n",
    "    'Amapa' : \"AP\", \n",
    "    'Amazonas' : \"AM\", \n",
    "    'Bahia' : \"BA\", \n",
    "    'Ceara' : \"CE\",\n",
    "    'Distrito Federal' : \"DF\", \n",
    "    'Espirito Santo' : \"ES\", \n",
    "    'Goias' : \"GO\", \n",
    "    'Maranhao' : \"MA\",\n",
    "    'Mato Grosso' : \"MT\", \n",
    "    'Minas Gerais' : \"MG\", \n",
    "    'Pará' : \"PA\", \n",
    "    'Paraiba' :\"PB\", \n",
    "    'Pernambuco' : \"PE\",\n",
    "    'Piau' : \"PI\",\n",
    "    'Rio' : \"RJ\", \n",
    "    'Rondonia' : \"RO\",\n",
    "    'Roraima' : \"RR\", \n",
    "    'Santa Catarina' : \"SC\",\n",
    "    'Sao Paulo' : \"SP\", \n",
    "    'Sergipe' : \"SE\", \n",
    "    'Tocantins' : \"TO\"\n",
    "}"
   ]
  },
  {
   "cell_type": "code",
   "execution_count": null,
   "metadata": {},
   "outputs": [],
   "source": [
    "# rename state column values with abbrevations for each\n",
    "brazil_df['state'] = brazil_df['state'].replace(state_rename_mapping)\n",
    "brazil_df.head()"
   ]
  },
  {
   "cell_type": "code",
   "execution_count": null,
   "metadata": {},
   "outputs": [],
   "source": [
    "# rename column label\n",
    "brazil_abbrev = brazil_df.rename(columns = {\n",
    " \"state\" : \"state_abbr\"\n",
    "})\n",
    "\n",
    "brazil_abbrev.head()"
   ]
  },
  {
   "cell_type": "code",
   "execution_count": null,
   "metadata": {},
   "outputs": [],
   "source": [
    "# group by year and state to find total reported fires for 2013\n",
    "brazil_fire_2013 = brazil_abbrev[brazil_abbrev['year'] == 2013]\n",
    "group_2013 = brazil_fire_2013.groupby(['year', 'state_abbr'])['number'].sum().reset_index()\n",
    "\n",
    "group_2013.head()"
   ]
  },
  {
   "cell_type": "code",
   "execution_count": null,
   "metadata": {},
   "outputs": [],
   "source": [
    "# repeat above for 2017\n",
    "brazil_fire_2017 = brazil_abbrev[brazil_abbrev['year'] == 2017]\n",
    "group_2017 = brazil_fire_2017.groupby(['year', 'state_abbr'])['number'].sum().reset_index()\n",
    "\n",
    "group_2017.head()"
   ]
  },
  {
   "cell_type": "code",
   "execution_count": null,
   "metadata": {},
   "outputs": [],
   "source": [
    "# load json file with state geometry\n",
    "with open('resources/brazil-states.geojson') as f:\n",
    "    json_data = json.load(f)\n",
    "\n",
    "# Convert to GeoDataFrame with GeoPandas\n",
    "gdf = gpd.GeoDataFrame.from_features(json_data['features'])\n",
    "\n",
    "gdf.head()"
   ]
  },
  {
   "cell_type": "code",
   "execution_count": null,
   "metadata": {},
   "outputs": [],
   "source": [
    "gdf = gdf.rename(columns = {\n",
    "    'sigla' : 'state_abbr'\n",
    "})\n",
    "\n",
    "gdf.head()"
   ]
  },
  {
   "cell_type": "markdown",
   "metadata": {},
   "source": [
    "## Merging Brazil data with Geojson coordinates for mapping"
   ]
  },
  {
   "cell_type": "code",
   "execution_count": null,
   "metadata": {},
   "outputs": [],
   "source": [
    "# merge 2013 and 2017 data with the json file\n",
    "gdf_2013 = gdf.merge(brazil_fire_2013, how='left', on='state_abbr')\n",
    "gdf_2017 = gdf.merge(brazil_fire_2017, how='left', on='state_abbr')\n",
    "\n",
    "gdf_2013.head()"
   ]
  },
  {
   "cell_type": "markdown",
   "metadata": {},
   "source": [
    "# 2013 Wildfire and Bird Map"
   ]
  },
  {
   "cell_type": "code",
   "execution_count": null,
   "metadata": {},
   "outputs": [],
   "source": [
    "# Load csv\n",
    "birds_2013 = Path('resources/brazil_birds_2013.csv')\n",
    "bird_path_2013 = pd.read_csv(birds_2013)\n",
    "\n",
    "# Filter relevant columns\n",
    "bird_path_2013_filtered = bird_path_2013[['decimalLatitude', 'decimalLongitude', 'species', 'month']]\n",
    "\n",
    "# Remove rows with missing latitude or longitude values\n",
    "bird_path_2013_filtered = bird_path_2013_filtered.dropna(subset=['decimalLatitude', 'decimalLongitude'])\n",
    "bird_path_2013_filtered = bird_path_2013_filtered.sort_values(by='month')\n",
    "# Group by species and month to calculate mean latitudes and longitudes\n",
    "bird_path_2013_grouped = bird_path_2013_filtered.groupby(['species', 'month'], as_index=False).agg({\n",
    "    'decimalLatitude': 'mean',\n",
    "    'decimalLongitude': 'mean'\n",
    "})\n",
    "bird_path_2013_grouped['month'] = bird_path_2013_grouped['month'].astype(int)\n",
    "bird_path_2013_grouped = bird_path_2013_grouped.sort_values(by='month')\n",
    "\n",
    "# Determine direction of movement based on latitude difference\n",
    "bird_path_2013_grouped['direction'] = bird_path_2013_grouped.groupby('species')['decimalLatitude'].diff()\n",
    "\n",
    "# Assign colors based on direction (upward = green, downward = blue)\n",
    "bird_path_2013_grouped['color'] = bird_path_2013_grouped['direction'].apply(lambda x: 'green' if x > 0 else 'blue')\n"
   ]
  },
  {
   "cell_type": "code",
   "execution_count": null,
   "metadata": {},
   "outputs": [],
   "source": [
    "# Make 2013 Choropleth map\n",
    "fig_2013 = px.choropleth(\n",
    "    gdf_2013,\n",
    "    geojson=gdf_2013.geometry,\n",
    "    locations=gdf_2013.index,\n",
    "    color='number',\n",
    "    hover_name='name',\n",
    "    hover_data=['number'],\n",
    "    color_continuous_scale=\"Reds\",\n",
    "    title=\"Wildfires in Brazil - 2013\", \n",
    "    height = 400, \n",
    "    width = 600\n",
    ")\n",
    "fig_2013.update_geos(fitbounds=\"locations\", visible=False)\n",
    "\n",
    "scatter_trace_2013 = go.Scattergeo(\n",
    "    lat=bird_path_2013_grouped['decimalLatitude'],\n",
    "    lon=bird_path_2013_grouped['decimalLongitude'],\n",
    "    mode='markers',\n",
    "    marker=dict(size=6, color='blue', symbol='circle'),\n",
    "    text=bird_path_2013_grouped['species'],  # Display species on hover\n",
    "    name='Birds',  # Name for the scatter layer\n",
    ")\n",
    "\n",
    "# Step 4: Add Scatter Trace to Choropleth Map\n",
    "fig_2013.add_trace(scatter_trace_2013)\n",
    "\n",
    "# Step 5: Display the Combined Map\n",
    "fig_2013.update_layout(\n",
    "    geo=dict(\n",
    "        projection_type='mercator',  # or use 'natural earth'\n",
    "        scope='south america',  # Limit the map view to South America (Brazil in particular)\n",
    "    ),\n",
    "    title_text=\"Wildfires in Brazil - 2013 with Bird Data\",  # Title for the map\n",
    "    title_x=0.5,  # Center the title\n",
    "    title_y=0.98,\n",
    "    margin={\"r\":0,\"t\":0,\"l\":0,\"b\":0}, \n",
    "    height = 400, \n",
    "    width = 600 \n",
    ")\n",
    "fig_2013.write_html(\"html/brazil_birds_2013.html\")\n",
    "fig_2013.show()"
   ]
  },
  {
   "cell_type": "markdown",
   "metadata": {},
   "source": [
    "# 2017 Wildfire and Bird Map"
   ]
  },
  {
   "cell_type": "code",
   "execution_count": null,
   "metadata": {},
   "outputs": [],
   "source": [
    "# Load csv\n",
    "birds_2017 = Path('resources/brazil_birds_2017.csv')\n",
    "bird_path_2017 = pd.read_csv(birds_2017)\n",
    "\n",
    "# Filter relevant columns\n",
    "bird_path_2017_filtered = bird_path_2017[['decimalLatitude', 'decimalLongitude', 'species', 'month']]\n",
    "\n",
    "# Remove rows with missing latitude or longitude values\n",
    "bird_path_2017_filtered = bird_path_2017_filtered.dropna(subset=['decimalLatitude', 'decimalLongitude'])\n",
    "bird_path_2017_filtered = bird_path_2017_filtered.sort_values(by='month')\n",
    "# Group by species and month to calculate mean latitudes and longitudes\n",
    "bird_path_2017_grouped = bird_path_2017_filtered.groupby(['species', 'month'], as_index=False).agg({\n",
    "    'decimalLatitude': 'mean',\n",
    "    'decimalLongitude': 'mean'\n",
    "})\n",
    "bird_path_2017_grouped['month'] = bird_path_2017_grouped['month'].astype(int)\n",
    "bird_path_2017_grouped = bird_path_2017_grouped.sort_values(by='month')\n",
    "\n",
    "# Determine direction of movement based on latitude difference\n",
    "bird_path_2017_grouped['direction'] = bird_path_2017_grouped.groupby('species')['decimalLatitude'].diff()\n",
    "\n",
    "# Assign colors based on direction (upward = green, downward = blue)\n",
    "bird_path_2017_grouped['color'] = bird_path_2017_grouped['direction'].apply(lambda x: 'green' if x > 0 else 'blue')"
   ]
  },
  {
   "cell_type": "code",
   "execution_count": null,
   "metadata": {},
   "outputs": [],
   "source": [
    "# Make 2017 Choropleth map\n",
    "fig_2017 = px.choropleth(\n",
    "    gdf_2017,\n",
    "    geojson=gdf_2017.geometry,\n",
    "    locations=gdf_2017.index,\n",
    "    color='number',\n",
    "    hover_name='name',\n",
    "    hover_data=['number'],\n",
    "    color_continuous_scale=\"Reds\",\n",
    "    title=\"Wildfires in Brazil - 2017\", \n",
    "    height = 400, \n",
    "    width = 600\n",
    ")\n",
    "fig_2017.update_geos(fitbounds=\"locations\", visible=False) \n",
    "\n",
    "scatter_trace_2017 = go.Scattergeo(\n",
    "    lat=bird_path_2017_grouped['decimalLatitude'],\n",
    "    lon=bird_path_2017_grouped['decimalLongitude'],\n",
    "    mode='markers',\n",
    "    marker=dict(size=6, color='blue', symbol='circle'),\n",
    "    text=bird_path_2017_grouped['species'],  # Display species on hover\n",
    "    name='Birds',  # Name for the scatter layer\n",
    ")\n",
    "\n",
    "# Step 4: Add Scatter Trace to Choropleth Map\n",
    "fig_2017.add_trace(scatter_trace_2017)\n",
    "\n",
    "# Step 5: Display the Combined Map\n",
    "fig_2017.update_layout(\n",
    "    geo=dict(\n",
    "        projection_type='mercator',  # or use 'natural earth'\n",
    "        scope='south america',  # Limit the map view to South America (Brazil in particular)\n",
    "    ),\n",
    "    title_text=\"Wildfires in Brazil - 2017 with Bird Data\",  # Title for the map\n",
    "    title_x=0.5,  # Center the title\n",
    "    title_y=0.98,\n",
    "    margin={\"r\":0,\"t\":0,\"l\":0,\"b\":0}, \n",
    "    height = 400, \n",
    "    width = 600 \n",
    ")\n",
    "fig_2017.write_html(\"html/brazil_birds_2017.html\")\n",
    "fig_2017.show()"
   ]
  },
  {
   "cell_type": "code",
   "execution_count": null,
   "metadata": {},
   "outputs": [],
   "source": []
  }
 ],
 "metadata": {
  "kernelspec": {
   "display_name": "dev",
   "language": "python",
   "name": "python3"
  },
  "language_info": {
   "codemirror_mode": {
    "name": "ipython",
    "version": 3
   },
   "file_extension": ".py",
   "mimetype": "text/x-python",
   "name": "python",
   "nbconvert_exporter": "python",
   "pygments_lexer": "ipython3",
   "version": "3.10.14"
  }
 },
 "nbformat": 4,
 "nbformat_minor": 2
}
